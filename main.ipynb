{
 "cells": [
  {
   "cell_type": "code",
   "execution_count": null,
   "metadata": {},
   "outputs": [],
   "source": [
    "# !pip install selenium\n",
    "# !pip install chromedriver-autoinstaller\n",
    "# TODO 첫 화면에서 로그인 후 검색으로 이동하기\n",
    "# TODO target_region을 list[str]타입으로 하여 한 지역식 검색하도록 하기\n",
    "# TODO 마지막 페이지를 모두 검색한 후 target_region이 남아있으면 처음으로 돌아가기"
   ]
  },
  {
   "cell_type": "code",
   "execution_count": null,
   "metadata": {},
   "outputs": [],
   "source": [
    "import chromedriver_autoinstaller # chrome driver 자동 설치 라이브러리\n",
    "from selenium.webdriver.common.by import By\n",
    "from selenium import webdriver\n",
    "from selenium.webdriver.support.ui import WebDriverWait \n",
    "from selenium.webdriver.support import expected_conditions as EC\n",
    "from selenium.webdriver.common.keys import Keys\n",
    "import pandas as pd\n",
    "import os\n",
    "from time import sleep"
   ]
  },
  {
   "cell_type": "code",
   "execution_count": null,
   "metadata": {},
   "outputs": [],
   "source": [
    "# chrome driver를 자동으로 설치함\n",
    "chromedriver_autoinstaller.install()\n",
    "\n",
    "options = webdriver.ChromeOptions() # Browser 세팅하기\n",
    "options.add_argument('lang=ko_KR') # 사용언어 한국어\n",
    "options.add_argument('disable-gpu') # 하드웨어 가속 안함\n",
    "# options.add_argument('headless') # 창 숨기기\n",
    "\n",
    "# 브라우저 세팅\n",
    "driver = webdriver.Chrome(options=options)"
   ]
  },
  {
   "cell_type": "code",
   "execution_count": null,
   "metadata": {},
   "outputs": [],
   "source": [
    "# 브라우저에 URL 호출하기\n",
    "target_url='https://new.cretop.com/ET/SS/ETSS071M1?h=1683949489638'\n",
    "driver.get(url=target_url)"
   ]
  },
  {
   "cell_type": "code",
   "execution_count": null,
   "metadata": {},
   "outputs": [],
   "source": [
    "def select_search_option(target_option, target_region):\n",
    "    element = WebDriverWait(driver, 10).until(\n",
    "        EC.presence_of_element_located((By.CLASS_NAME, 'filter-wrap'))\n",
    "    )\n",
    "    webEl_filter_wrap = driver.find_element(By.CLASS_NAME, 'filter-wrap')\n",
    "    # TODO 검색어 상품명 접근하도록 하기\n",
    "\n",
    "    webEl_filter_title =  webEl_filter_wrap.find_elements(By.CLASS_NAME, 'filter-tit')\n",
    "    webEl_filter_option =  webEl_filter_wrap.find_elements(By.CLASS_NAME, 'filter-option')\n",
    "\n",
    "    for opt in webEl_filter_option:\n",
    "        try:\n",
    "            for check in opt.find_elements(By.CLASS_NAME, 'form-check'):\n",
    "                if check.text in target_option:\n",
    "                    check.click()\n",
    "                    print(check.text)\n",
    "        except Exception: \n",
    "            print(Exception)\n",
    "            pass\n",
    "        for radio in opt.find_elements(By.CLASS_NAME, 'form-radio'): \n",
    "            if radio.text == target_region:\n",
    "                radio.find_element(By.TAG_NAME, \"label\").click()\n",
    "                print(radio.text)\n"
   ]
  },
  {
   "cell_type": "code",
   "execution_count": null,
   "metadata": {},
   "outputs": [],
   "source": [
    "def click_search():\n",
    "    try:\n",
    "        close_btn_raw_xpath = '//*[@id=\"app\"]/div[1]/div[1]/div/div/div[1]/div/div/div/div/div[2]/button[1]'\n",
    "        search_btn_raw_xpath ='//*[@id=\"app\"]/div[1]/div[1]/div/div/div[1]/div/div/div/div/div[2]/button[2]'\n",
    "\n",
    "    except Exception:\n",
    "        search_btn_raw_xpath ='//*[@id=\"app\"]/div[1]/div[1]/div/div/div[1]/div/div/div/div/div[2]/button' \n",
    "\n",
    "\n",
    "    webEl_search_btn = driver.find_element(By.XPATH,search_btn_raw_xpath)\n",
    "    \n",
    "    print(webEl_search_btn.text)\n",
    "    webEl_search_btn.click()"
   ]
  },
  {
   "cell_type": "code",
   "execution_count": null,
   "metadata": {},
   "outputs": [],
   "source": [
    "def crawling_result(df_result:pd.DataFrame):\n",
    "    sleep(1)\n",
    "    element = WebDriverWait(driver, 10).until(\n",
    "        EC.presence_of_element_located((By.CLASS_NAME, 'search-result__list'))\n",
    "    )\n",
    "    webEl_search_result_list = driver.find_element(By.CLASS_NAME, 'search-result__list')\n",
    "    webEl_search_result_items = webEl_search_result_list.find_elements(By.TAG_NAME, 'li')\n",
    "\n",
    "    '''\n",
    "    <button>\n",
    "    <ul class='search-info-list'>\n",
    "    <ul class='search-info-list'>\n",
    "    <ul class='btn__list'>\n",
    "    '''\n",
    "\n",
    "    for search_result_item in webEl_search_result_items:\n",
    "        try:\n",
    "            result_item = []\n",
    "            title = search_result_item.find_element(By.TAG_NAME, 'button').text\n",
    "            result_item.append(title)\n",
    "            print(title)\n",
    "            info_list = search_result_item.find_elements(By.CLASS_NAME, 'search-info-list')\n",
    "            for info_items in info_list:\n",
    "                info_item = info_items.find_elements(By.TAG_NAME, 'li')\n",
    "                for li in info_item:\n",
    "                    info_title = li.find_element(By.CLASS_NAME, 'list-tit')\n",
    "                    info_info = li.find_element(By.CLASS_NAME, 'list-info')\n",
    "                    print(info_title.text, info_info.text)\n",
    "\n",
    "                    result_item.append(info_info.text)\n",
    "\n",
    "            df_result.loc[len(df_result)] = result_item\n",
    "        except Exception:\n",
    "            pass\n",
    "\n",
    "    return df_result"
   ]
  },
  {
   "cell_type": "code",
   "execution_count": null,
   "metadata": {},
   "outputs": [],
   "source": [
    "def set_current_index():\n",
    "    index_div_raw_xpath = '//*[@id=\"app\"]/div[1]/div[1]/div/div/div[2]/div[2]/div[2]/div/div'\n",
    "    index_div_xpath = driver.find_element(By.XPATH,index_div_raw_xpath)\n",
    "    webEl_index_btn = index_div_xpath.find_element(By.TAG_NAME, 'ul').find_elements(By.TAG_NAME,'li')\n",
    "    for index_btn in webEl_index_btn:\n",
    "        try:\n",
    "            webEl_current_index =index_btn.find_element(By.CLASS_NAME, 'on') \n",
    "            current_index = int(webEl_current_index.text) % 10\n",
    "            print('on: ', current_index)\n",
    "            return current_index\n",
    "\n",
    "        except Exception:\n",
    "            print('off: ', index_btn.text)"
   ]
  },
  {
   "cell_type": "code",
   "execution_count": null,
   "metadata": {},
   "outputs": [],
   "source": [
    "def is_end_page(webEl):\n",
    "    if (webEl.get_attribute('disabled')):\n",
    "        return True\n",
    "    else:\n",
    "        return False"
   ]
  },
  {
   "cell_type": "code",
   "execution_count": null,
   "metadata": {},
   "outputs": [],
   "source": [
    "# //*[@id=\"app\"]/div[1]/div[1]/div/div/div[2]/div[2]/div[2]/div/div/ul/li[2]/button # sec btn\n",
    "# //*[@id=\"app\"]/div[1]/div[1]/div/div/div[2]/div[2]/div[2]/div/div/ul/li[3]/button # 3th btn\n",
    "\n",
    "def click_next_index(current_index):\n",
    "    next_index = str(current_index+1)\n",
    "    print(\"current index: \",current_index)\n",
    "    print(\"next index: \",next_index)\n",
    "    next_index_btn_xpath = driver.find_element(By.XPATH,'//*[@id=\"app\"]/div[1]/div[1]/div/div/div[2]/div[2]/div[2]/div/div/button[4]')\n",
    "\n",
    "\n",
    "    if is_end_page(next_index_btn_xpath):\n",
    "        print('마지막 페이지')\n",
    "        return False\n",
    "    elif current_index == 0:\n",
    "        print('마지막 번호')\n",
    "\n",
    "    else:\n",
    "        next_index_btn_raw_xpath = '//*[@id=\"app\"]/div[1]/div[1]/div/div/div[2]/div[2]/div[2]/div/div/ul/li[{}]/button'.format(next_index)\n",
    "        next_index_btn_xpath = driver.find_element(By.XPATH,next_index_btn_raw_xpath)\n",
    "        \n",
    "    next_index_btn_xpath.send_keys(Keys.ENTER)\n",
    "    return True"
   ]
  },
  {
   "cell_type": "code",
   "execution_count": null,
   "metadata": {},
   "outputs": [],
   "source": [
    "target_region = '서울'\n",
    "target_option = ['정상','대기업','중견기업','유가증권시장']\n",
    "columns_name = ['회사명','대표자명','기업상태','기업유형/형태','사업자번호','법인번호','산업분류','주소']\n",
    "df_result = pd.DataFrame(columns=columns_name)\n"
   ]
  },
  {
   "cell_type": "code",
   "execution_count": null,
   "metadata": {},
   "outputs": [],
   "source": [
    "select_search_option(target_option,target_region)\n",
    "click_search()\n",
    "while True:\n",
    "    df_result = crawling_result(df_result)\n",
    "    current_index = set_current_index()\n",
    "    if not click_next_index(current_index):\n",
    "        break"
   ]
  },
  {
   "cell_type": "code",
   "execution_count": null,
   "metadata": {},
   "outputs": [],
   "source": [
    "print(df_result['회사명'].count())\n",
    "df_result.tail()"
   ]
  },
  {
   "cell_type": "code",
   "execution_count": null,
   "metadata": {},
   "outputs": [],
   "source": [
    "base_url = './'\n",
    "file_name = 'result'+'.xlsx'\n",
    "region = target_region\n",
    "df_result.to_excel(excel_writer=base_url+file_name,sheet_name=region)"
   ]
  },
  {
   "cell_type": "code",
   "execution_count": null,
   "metadata": {},
   "outputs": [],
   "source": [
    "# 브라우저 탭 닫기\n",
    "driver.close()\n",
    "# 브라우저 종료하기 (탭 모두 종료)\n",
    "driver.quit()"
   ]
  }
 ],
 "metadata": {
  "kernelspec": {
   "display_name": "Python 3",
   "language": "python",
   "name": "python3"
  },
  "language_info": {
   "codemirror_mode": {
    "name": "ipython",
    "version": 3
   },
   "file_extension": ".py",
   "mimetype": "text/x-python",
   "name": "python",
   "nbconvert_exporter": "python",
   "pygments_lexer": "ipython3",
   "version": "3.11.2"
  },
  "orig_nbformat": 4
 },
 "nbformat": 4,
 "nbformat_minor": 2
}
